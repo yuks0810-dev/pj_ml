{
  "cells": [
    {
      "cell_type": "markdown",
      "metadata": {
        "id": "view-in-github",
        "colab_type": "text"
      },
      "source": [
        "<a href=\"https://colab.research.google.com/github/yuks0810-dev/pj_ml/blob/main/competition-1299/data_downloader.ipynb\" target=\"_parent\"><img src=\"https://colab.research.google.com/assets/colab-badge.svg\" alt=\"Open In Colab\"/></a>"
      ]
    },
    {
      "cell_type": "code",
      "execution_count": null,
      "metadata": {
        "colab": {
          "base_uri": "https://localhost:8080/"
        },
        "id": "uSMgnTERB5PC",
        "outputId": "bae2fdcd-e304-45a1-b9cd-2d4ad85ba6dc"
      },
      "outputs": [
        {
          "output_type": "stream",
          "name": "stdout",
          "text": [
            "Drive already mounted at /content/drive; to attempt to forcibly remount, call drive.mount(\"/content/drive\", force_remount=True).\n"
          ]
        }
      ],
      "source": [
        "# データ取得のためgoogle driveをマウント\n",
        "from google.colab import drive\n",
        "drive.mount('/content/drive')"
      ]
    },
    {
      "cell_type": "code",
      "execution_count": null,
      "metadata": {
        "id": "TVoe1oDKMLaC"
      },
      "outputs": [],
      "source": [
        "DOWNLAOD_DATA=True\n",
        "DELETE_DATA=True\n",
        "\n",
        "signate_key_dir=\"/content/drive/MyDrive/pj_機械学習/SIGNATE/中田/signate.json\"\n",
        "root_path=\"/content/drive/MyDrive/pj_機械学習/SIGNATE/中田/第２回NEXCO東日本_渋滞予測チャレンジコンテスト\""
      ]
    },
    {
      "cell_type": "code",
      "source": [
        "if DOWNLAOD_DATA:\n",
        "    # ユーザーに実行を尋ねる\n",
        "    user_input = input(\"このコードを実行しますか？ [y/n]: \")\n",
        "\n",
        "    # ユーザーの入力に応じて条件分岐\n",
        "    if user_input.lower() == 'y':\n",
        "        # SIGNATE CLIのインストール\n",
        "        !pip install signate\n",
        "\n",
        "        # signateからデータをダウンロードするコードの読み込み\n",
        "        sys.path.append('/content/drive/MyDrive/pj_機械学習/SIGNATE/中田')\n",
        "\n",
        "        import sys\n",
        "        import importlib\n",
        "\n",
        "        import signate_data_dl # まずモジュールをインポート\n",
        "        importlib.reload(signate_data_dl) # モジュールをリロード（.pyファイルに変更がある場合に必要）\n",
        "        from signate_data_dl import download_data_from_signate\n",
        "\n",
        "        data_dir = f'{root_path}/data'\n",
        "        signate_key_dir=\"/content/drive/MyDrive/pj_機械学習/SIGNATE/中田/signate.json\"\n",
        "        competition_id = '1299'\n",
        "\n",
        "        download_data_from_signate(data_dir, signate_key_dir, competition_id)\n",
        "\n",
        "    elif user_input.lower() == 'n':\n",
        "        print(\"コードの実行をキャンセルしました。\")\n",
        "    else:\n",
        "        print(\"無効な入力です。'y'または'n'で答えてください。\")"
      ],
      "metadata": {
        "colab": {
          "base_uri": "https://localhost:8080/"
        },
        "id": "1_MRjgO3kUF7",
        "outputId": "8f14632b-f5ce-4582-a4f6-5fe34628f07d"
      },
      "execution_count": null,
      "outputs": [
        {
          "output_type": "stream",
          "name": "stdout",
          "text": [
            "このコードを実行しますか？ [y/n]: y\n",
            "Requirement already satisfied: signate in /usr/local/lib/python3.10/dist-packages (9.9.10)\n",
            "Requirement already satisfied: click in /usr/local/lib/python3.10/dist-packages (from signate) (8.1.7)\n",
            "Requirement already satisfied: tabulate in /usr/local/lib/python3.10/dist-packages (from signate) (0.9.0)\n",
            "Requirement already satisfied: wget in /usr/local/lib/python3.10/dist-packages (from signate) (3.2)\n",
            "Requirement already satisfied: urllib3>=1.26.7 in /usr/local/lib/python3.10/dist-packages (from signate) (2.0.7)\n",
            "Requirement already satisfied: six>=1.16 in /usr/local/lib/python3.10/dist-packages (from signate) (1.16.0)\n",
            "Requirement already satisfied: certifi in /usr/local/lib/python3.10/dist-packages (from signate) (2024.2.2)\n",
            "Requirement already satisfied: python-dateutil in /usr/local/lib/python3.10/dist-packages (from signate) (2.8.2)\n"
          ]
        }
      ]
    },
    {
      "cell_type": "code",
      "execution_count": null,
      "metadata": {
        "id": "pae9SX9gISry",
        "colab": {
          "base_uri": "https://localhost:8080/"
        },
        "outputId": "6ec9bd0a-4ffb-473d-ec63-522ff64ac0a5"
      },
      "outputs": [
        {
          "output_type": "stream",
          "name": "stdout",
          "text": [
            "このコードを実行しますか？ [y/n]: n\n",
            "コードの実行をキャンセルしました。\n",
            "Requirement already satisfied: signate in /usr/local/lib/python3.10/dist-packages (9.9.10)\n",
            "Requirement already satisfied: click in /usr/local/lib/python3.10/dist-packages (from signate) (8.1.7)\n",
            "Requirement already satisfied: tabulate in /usr/local/lib/python3.10/dist-packages (from signate) (0.9.0)\n",
            "Requirement already satisfied: wget in /usr/local/lib/python3.10/dist-packages (from signate) (3.2)\n",
            "Requirement already satisfied: urllib3>=1.26.7 in /usr/local/lib/python3.10/dist-packages (from signate) (2.0.7)\n",
            "Requirement already satisfied: six>=1.16 in /usr/local/lib/python3.10/dist-packages (from signate) (1.16.0)\n",
            "Requirement already satisfied: certifi in /usr/local/lib/python3.10/dist-packages (from signate) (2024.2.2)\n",
            "Requirement already satisfied: python-dateutil in /usr/local/lib/python3.10/dist-packages (from signate) (2.8.2)\n"
          ]
        }
      ],
      "source": [
        "if DELETE_DATA:\n",
        "\n",
        "    # ユーザーに実行を尋ねる\n",
        "    user_input = input(\"このコードを実行しますか？ [y/n]: \")\n",
        "\n",
        "    # ユーザーの入力に応じて条件分岐\n",
        "    if user_input.lower() == 'y':\n",
        "        import os\n",
        "        import shutil\n",
        "\n",
        "        # SIGNATE CLIのインストール\n",
        "        !pip install signate\n",
        "\n",
        "        # signateからデータをダウンロードするコードの読み込み\n",
        "        sys.path.append('/content/drive/MyDrive/pj_機械学習/SIGNATE/中田')\n",
        "\n",
        "        import sys\n",
        "        import importlib\n",
        "\n",
        "        import signate_data_dl # まずモジュールをインポート\n",
        "        importlib.reload(signate_data_dl) # モジュールをリロード（.pyファイルに変更がある場合に必要）\n",
        "        from signate_data_dl import delete_download_data\n",
        "\n",
        "        data_dir = f'{root_path}/data'\n",
        "        delete_download_data(data_dir)\n",
        "\n",
        "    elif user_input.lower() == 'n':\n",
        "        print(\"コードの実行をキャンセルしました。\")\n",
        "    else:\n",
        "        print(\"無効な入力です。'y'または'n'で答えてください。\")"
      ]
    },
    {
      "cell_type": "code",
      "execution_count": null,
      "metadata": {
        "id": "MTKENSkDErDt"
      },
      "outputs": [],
      "source": []
    }
  ],
  "metadata": {
    "colab": {
      "provenance": [],
      "authorship_tag": "ABX9TyMd/fE4Gr92N6neETqQnngS",
      "include_colab_link": true
    },
    "kernelspec": {
      "display_name": "Python 3",
      "name": "python3"
    },
    "language_info": {
      "name": "python"
    }
  },
  "nbformat": 4,
  "nbformat_minor": 0
}